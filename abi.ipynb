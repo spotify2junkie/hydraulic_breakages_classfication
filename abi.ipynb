{
 "cells": [
  {
   "cell_type": "code",
   "execution_count": 1,
   "metadata": {},
   "outputs": [],
   "source": [
    "import numpy as np\n",
    "import pandas as pd\n",
    "import seaborn as sns\n",
    "import matplotlib.pyplot as plt\n",
    "\n",
    "# Internal ipython tool for setting figure size\n",
    "from IPython.core.pylabtools import figsize"
   ]
  },
  {
   "cell_type": "markdown",
   "metadata": {},
   "source": [
    "# 1. Introduction\n"
   ]
  },
  {
   "cell_type": "markdown",
   "metadata": {},
   "source": [
    "## 1.1 Backgroud Information\n",
    "The dataset was obtained through a hydraulic test rig,the system has **17** sensors which can keep track records over every cycle.In the project,our job was to extract valuable information from the data, and build predictive machine learning models to help us to predict specific target variable -**Internal pump leakage**.Objective of this project is to achieve a better prediction accuracy for internal pump leak,by doing so we are able to better gauge when to replace the pump.In the long run it will also help us save money since we're replacing the pumps just before the leak is predicted to occur.\n",
    "\n",
    "\n"
   ]
  },
  {
   "cell_type": "markdown",
   "metadata": {},
   "source": [
    "## 1.2 Sensors data Introduction"
   ]
  },
  {
   "cell_type": "markdown",
   "metadata": {},
   "source": [
    "Each sensor has its own data file(stored by txt file),sensors including pressures,temperature,volume flow and so on.For different sensors ,the frequence(Hz) for recording is either 1,10 or 100 per seconds,that means 60,600 or 6000 records will be created for each sensors.All the txt files download through [UCI machine Learning Database](https://archive.ics.uci.edu/ml/machine-learning-databases/00447/)\n",
    "\n",
    "A whole description of sensors data can be find in appendix."
   ]
  },
  {
   "cell_type": "code",
   "execution_count": 2,
   "metadata": {},
   "outputs": [],
   "source": [
    "#load sensors datasets\n",
    "eps1 = pd.read_csv(\"EPS1.txt\",delim_whitespace = True,header = None)\n",
    "fs1 = pd.read_csv(\"FS1.txt\",delim_whitespace = True,header = None)\n",
    "fs2 = pd.read_csv('FS2.txt',delim_whitespace = True,header = None)\n",
    "ps1 = pd.read_csv('PS1.txt',delim_whitespace = True,header = None)\n",
    "ps2 = pd.read_csv('PS2.txt',delim_whitespace = True,header = None)\n",
    "ps3 = pd.read_csv('PS3.txt',delim_whitespace = True,header = None)\n",
    "ps4 = pd.read_csv('PS4.txt',delim_whitespace = True,header = None)\n",
    "ps5 = pd.read_csv('PS5.txt',delim_whitespace = True,header = None)\n",
    "ps6 = pd.read_csv('PS6.txt',delim_whitespace = True,header = None)\n",
    "se = pd.read_csv('SE.txt',delim_whitespace = True,header = None)\n",
    "ts1 = pd.read_csv('TS1.txt',delim_whitespace = True,header = None)\n",
    "ts2 = pd.read_csv('TS2.txt',delim_whitespace = True,header = None)\n",
    "ts3 = pd.read_csv('TS3.txt',delim_whitespace = True,header = None)\n",
    "ts4 = pd.read_csv('TS4.txt',delim_whitespace = True,header = None)\n",
    "vs1 = pd.read_csv('VS1.txt',delim_whitespace = True,header = None)\n",
    "ce = pd.read_csv('CE.txt',delim_whitespace = True,header = None)\n",
    "cp = pd.read_csv('CP.txt',delim_whitespace = True,header = None)"
   ]
  },
  {
   "cell_type": "markdown",
   "metadata": {},
   "source": [
    "## 1.3 Target Variable Introduction"
   ]
  },
  {
   "cell_type": "markdown",
   "metadata": {},
   "source": [
    "4 categorical targets were given to choose for classification assignment.For this project,I chose Internal pump leakage for my target variable.Internal pump leakage can have three stages:  **0:no leakage,1: weak leakage,2: severe leakage.**"
   ]
  },
  {
   "cell_type": "code",
   "execution_count": 3,
   "metadata": {},
   "outputs": [],
   "source": [
    "#load target dataset\n",
    "target = pd.read_csv(\"profile.txt\",delim_whitespace = True,header = None)"
   ]
  },
  {
   "cell_type": "code",
   "execution_count": 4,
   "metadata": {},
   "outputs": [
    {
     "data": {
      "text/html": [
       "<div>\n",
       "<style scoped>\n",
       "    .dataframe tbody tr th:only-of-type {\n",
       "        vertical-align: middle;\n",
       "    }\n",
       "\n",
       "    .dataframe tbody tr th {\n",
       "        vertical-align: top;\n",
       "    }\n",
       "\n",
       "    .dataframe thead th {\n",
       "        text-align: right;\n",
       "    }\n",
       "</style>\n",
       "<table border=\"1\" class=\"dataframe\">\n",
       "  <thead>\n",
       "    <tr style=\"text-align: right;\">\n",
       "      <th></th>\n",
       "      <th>0</th>\n",
       "      <th>1</th>\n",
       "      <th>2</th>\n",
       "      <th>3</th>\n",
       "      <th>4</th>\n",
       "    </tr>\n",
       "  </thead>\n",
       "  <tbody>\n",
       "    <tr>\n",
       "      <th>0</th>\n",
       "      <td>3</td>\n",
       "      <td>100</td>\n",
       "      <td>0</td>\n",
       "      <td>130</td>\n",
       "      <td>1</td>\n",
       "    </tr>\n",
       "    <tr>\n",
       "      <th>1</th>\n",
       "      <td>3</td>\n",
       "      <td>100</td>\n",
       "      <td>0</td>\n",
       "      <td>130</td>\n",
       "      <td>1</td>\n",
       "    </tr>\n",
       "    <tr>\n",
       "      <th>2</th>\n",
       "      <td>3</td>\n",
       "      <td>100</td>\n",
       "      <td>0</td>\n",
       "      <td>130</td>\n",
       "      <td>1</td>\n",
       "    </tr>\n",
       "    <tr>\n",
       "      <th>3</th>\n",
       "      <td>3</td>\n",
       "      <td>100</td>\n",
       "      <td>0</td>\n",
       "      <td>130</td>\n",
       "      <td>1</td>\n",
       "    </tr>\n",
       "    <tr>\n",
       "      <th>4</th>\n",
       "      <td>3</td>\n",
       "      <td>100</td>\n",
       "      <td>0</td>\n",
       "      <td>130</td>\n",
       "      <td>1</td>\n",
       "    </tr>\n",
       "  </tbody>\n",
       "</table>\n",
       "</div>"
      ],
      "text/plain": [
       "   0    1  2    3  4\n",
       "0  3  100  0  130  1\n",
       "1  3  100  0  130  1\n",
       "2  3  100  0  130  1\n",
       "3  3  100  0  130  1\n",
       "4  3  100  0  130  1"
      ]
     },
     "execution_count": 4,
     "metadata": {},
     "output_type": "execute_result"
    }
   ],
   "source": [
    "target.head(5)"
   ]
  },
  {
   "cell_type": "code",
   "execution_count": 5,
   "metadata": {},
   "outputs": [
    {
     "data": {
      "text/plain": [
       "(2205, 5)"
      ]
     },
     "execution_count": 5,
     "metadata": {},
     "output_type": "execute_result"
    }
   ],
   "source": [
    "target.shape"
   ]
  },
  {
   "cell_type": "code",
   "execution_count": 6,
   "metadata": {},
   "outputs": [
    {
     "data": {
      "text/plain": [
       "0    1221\n",
       "1     492\n",
       "2     492\n",
       "Name: 2, dtype: int64"
      ]
     },
     "execution_count": 6,
     "metadata": {},
     "output_type": "execute_result"
    }
   ],
   "source": [
    "target[2].value_counts()"
   ]
  },
  {
   "cell_type": "markdown",
   "metadata": {},
   "source": [
    "# 2. Data Cleansing and EDA"
   ]
  },
  {
   "cell_type": "markdown",
   "metadata": {},
   "source": [
    "## 2.1 Data Cleansing\n",
    "### 2.1.1 Assumption\n",
    "In the introduction we have mentioned each sensor has 60,600 or 6000 records(attributes) available for each instance(cycle),however we have 2205 cycles. For common machine learning tasks we would have 1 target variable input on 1 feature input,so in this case we need to figure out how to use 60,600 or 6000 records available to get only 1 record for each sensor on each instance(cycle).\n",
    "Here I made a assumption that the average of those records per second will represent the sensor state for each cycle, this is not a strong assumption but I hope the predictive power from the machine learning models will be proved strong enough."
   ]
  },
  {
   "cell_type": "markdown",
   "metadata": {},
   "source": [
    "### 2.2 Cleansing\n",
    "In this part we cleaned 17 datasets and build 17 new corresponding sensors series,after that we combine these new series with our target variable -- Internal pump leakage to a dataset we can further study on."
   ]
  },
  {
   "cell_type": "code",
   "execution_count": 7,
   "metadata": {},
   "outputs": [],
   "source": [
    "#calculate mean of every sensors during each instances\n",
    "eps1_new = eps1.mean(axis = 1)\n",
    "fs1_new = fs1.mean(axis = 1)\n",
    "fs2_new = fs2.mean(axis = 1)\n",
    "ps1_new = ps1.mean(axis = 1)\n",
    "ps2_new = ps2.mean(axis = 1)\n",
    "ps3_new = ps3.mean(axis = 1)\n",
    "ps4_new = ps4.mean(axis = 1)\n",
    "ps5_new = ps5.mean(axis = 1)\n",
    "ps6_new = ps6.mean(axis = 1)\n",
    "se_new = se.mean(axis = 1)\n",
    "ts1_new = ts1.mean(axis = 1)\n",
    "ts2_new = ts2.mean(axis = 1)\n",
    "ts3_new = ts3.mean(axis = 1)\n",
    "ts4_new = ts4.mean(axis = 1)\n",
    "vs1_new = vs1.mean(axis = 1)\n",
    "ce_new = ce.mean(axis = 1)\n",
    "cp_new = cp.mean(axis = 1)"
   ]
  },
  {
   "cell_type": "code",
   "execution_count": 8,
   "metadata": {},
   "outputs": [],
   "source": [
    "#now merge target and features(average of attributes)together\n",
    "data = pd.DataFrame({'Internal pump leakage':target[2],\n",
    "                     'EPS1':eps1_new,\n",
    "                    'FS1':fs1_new,\n",
    "                    'FS2':fs2_new,\n",
    "                    'PS1':ps1_new,\n",
    "                    'PS2':ps2_new,\n",
    "                    'PS3':ps3_new,\n",
    "                    'PS4':ps4_new,\n",
    "                    'PS5':ps5_new,\n",
    "                    'PS6':ps6_new,\n",
    "                    'SE':se_new,\n",
    "                    'TS1':ts1_new,\n",
    "                    'TS2':ts2_new,\n",
    "                    'TS3':ts3_new,\n",
    "                    'TS4':ts4_new,\n",
    "                    'VS1':vs1_new,\n",
    "                    'CE':ce_new,\n",
    "                    'CP':cp_new,\n",
    "                    }\n",
    "                    )"
   ]
  },
  {
   "cell_type": "code",
   "execution_count": 9,
   "metadata": {},
   "outputs": [
    {
     "data": {
      "text/plain": [
       "(2205, 18)"
      ]
     },
     "execution_count": 9,
     "metadata": {},
     "output_type": "execute_result"
    }
   ],
   "source": [
    "#check the shape of the data,should be 17 features + 1 target coloumn\n",
    "data.shape"
   ]
  },
  {
   "cell_type": "code",
   "execution_count": 10,
   "metadata": {},
   "outputs": [
    {
     "data": {
      "text/html": [
       "<div>\n",
       "<style scoped>\n",
       "    .dataframe tbody tr th:only-of-type {\n",
       "        vertical-align: middle;\n",
       "    }\n",
       "\n",
       "    .dataframe tbody tr th {\n",
       "        vertical-align: top;\n",
       "    }\n",
       "\n",
       "    .dataframe thead th {\n",
       "        text-align: right;\n",
       "    }\n",
       "</style>\n",
       "<table border=\"1\" class=\"dataframe\">\n",
       "  <thead>\n",
       "    <tr style=\"text-align: right;\">\n",
       "      <th></th>\n",
       "      <th>CE</th>\n",
       "      <th>CP</th>\n",
       "      <th>EPS1</th>\n",
       "      <th>FS1</th>\n",
       "      <th>FS2</th>\n",
       "      <th>Internal pump leakage</th>\n",
       "      <th>PS1</th>\n",
       "      <th>PS2</th>\n",
       "      <th>PS3</th>\n",
       "      <th>PS4</th>\n",
       "      <th>PS5</th>\n",
       "      <th>PS6</th>\n",
       "      <th>SE</th>\n",
       "      <th>TS1</th>\n",
       "      <th>TS2</th>\n",
       "      <th>TS3</th>\n",
       "      <th>TS4</th>\n",
       "      <th>VS1</th>\n",
       "    </tr>\n",
       "  </thead>\n",
       "  <tbody>\n",
       "    <tr>\n",
       "      <th>0</th>\n",
       "      <td>39.601350</td>\n",
       "      <td>1.862750</td>\n",
       "      <td>2538.929167</td>\n",
       "      <td>6.709815</td>\n",
       "      <td>10.304592</td>\n",
       "      <td>0</td>\n",
       "      <td>160.673492</td>\n",
       "      <td>109.466914</td>\n",
       "      <td>1.991475</td>\n",
       "      <td>0.0</td>\n",
       "      <td>9.842170</td>\n",
       "      <td>9.728097</td>\n",
       "      <td>59.157183</td>\n",
       "      <td>35.621983</td>\n",
       "      <td>40.978767</td>\n",
       "      <td>38.471017</td>\n",
       "      <td>31.745250</td>\n",
       "      <td>0.576950</td>\n",
       "    </tr>\n",
       "    <tr>\n",
       "      <th>1</th>\n",
       "      <td>25.786433</td>\n",
       "      <td>1.255550</td>\n",
       "      <td>2531.498900</td>\n",
       "      <td>6.715315</td>\n",
       "      <td>10.403098</td>\n",
       "      <td>0</td>\n",
       "      <td>160.603320</td>\n",
       "      <td>109.354890</td>\n",
       "      <td>1.976234</td>\n",
       "      <td>0.0</td>\n",
       "      <td>9.635142</td>\n",
       "      <td>9.529488</td>\n",
       "      <td>59.335617</td>\n",
       "      <td>36.676967</td>\n",
       "      <td>41.532767</td>\n",
       "      <td>38.978967</td>\n",
       "      <td>34.493867</td>\n",
       "      <td>0.565850</td>\n",
       "    </tr>\n",
       "    <tr>\n",
       "      <th>2</th>\n",
       "      <td>22.218233</td>\n",
       "      <td>1.113217</td>\n",
       "      <td>2519.928000</td>\n",
       "      <td>6.718522</td>\n",
       "      <td>10.366250</td>\n",
       "      <td>0</td>\n",
       "      <td>160.347720</td>\n",
       "      <td>109.158845</td>\n",
       "      <td>1.972224</td>\n",
       "      <td>0.0</td>\n",
       "      <td>9.530548</td>\n",
       "      <td>9.427949</td>\n",
       "      <td>59.543150</td>\n",
       "      <td>37.880800</td>\n",
       "      <td>42.442450</td>\n",
       "      <td>39.631950</td>\n",
       "      <td>35.646150</td>\n",
       "      <td>0.576533</td>\n",
       "    </tr>\n",
       "    <tr>\n",
       "      <th>3</th>\n",
       "      <td>20.459817</td>\n",
       "      <td>1.062150</td>\n",
       "      <td>2511.541633</td>\n",
       "      <td>6.720565</td>\n",
       "      <td>10.302678</td>\n",
       "      <td>0</td>\n",
       "      <td>160.188088</td>\n",
       "      <td>109.064807</td>\n",
       "      <td>1.946575</td>\n",
       "      <td>0.0</td>\n",
       "      <td>9.438827</td>\n",
       "      <td>9.337430</td>\n",
       "      <td>59.794900</td>\n",
       "      <td>38.879050</td>\n",
       "      <td>43.403983</td>\n",
       "      <td>40.403383</td>\n",
       "      <td>36.579467</td>\n",
       "      <td>0.569267</td>\n",
       "    </tr>\n",
       "    <tr>\n",
       "      <th>4</th>\n",
       "      <td>19.787017</td>\n",
       "      <td>1.070467</td>\n",
       "      <td>2503.449500</td>\n",
       "      <td>6.690308</td>\n",
       "      <td>10.237750</td>\n",
       "      <td>0</td>\n",
       "      <td>160.000472</td>\n",
       "      <td>108.931434</td>\n",
       "      <td>1.922707</td>\n",
       "      <td>0.0</td>\n",
       "      <td>9.358762</td>\n",
       "      <td>9.260636</td>\n",
       "      <td>59.455267</td>\n",
       "      <td>39.803917</td>\n",
       "      <td>44.332750</td>\n",
       "      <td>41.310550</td>\n",
       "      <td>37.427900</td>\n",
       "      <td>0.577367</td>\n",
       "    </tr>\n",
       "  </tbody>\n",
       "</table>\n",
       "</div>"
      ],
      "text/plain": [
       "          CE        CP         EPS1       FS1        FS2  \\\n",
       "0  39.601350  1.862750  2538.929167  6.709815  10.304592   \n",
       "1  25.786433  1.255550  2531.498900  6.715315  10.403098   \n",
       "2  22.218233  1.113217  2519.928000  6.718522  10.366250   \n",
       "3  20.459817  1.062150  2511.541633  6.720565  10.302678   \n",
       "4  19.787017  1.070467  2503.449500  6.690308  10.237750   \n",
       "\n",
       "   Internal pump leakage         PS1         PS2       PS3  PS4       PS5  \\\n",
       "0                      0  160.673492  109.466914  1.991475  0.0  9.842170   \n",
       "1                      0  160.603320  109.354890  1.976234  0.0  9.635142   \n",
       "2                      0  160.347720  109.158845  1.972224  0.0  9.530548   \n",
       "3                      0  160.188088  109.064807  1.946575  0.0  9.438827   \n",
       "4                      0  160.000472  108.931434  1.922707  0.0  9.358762   \n",
       "\n",
       "        PS6         SE        TS1        TS2        TS3        TS4       VS1  \n",
       "0  9.728097  59.157183  35.621983  40.978767  38.471017  31.745250  0.576950  \n",
       "1  9.529488  59.335617  36.676967  41.532767  38.978967  34.493867  0.565850  \n",
       "2  9.427949  59.543150  37.880800  42.442450  39.631950  35.646150  0.576533  \n",
       "3  9.337430  59.794900  38.879050  43.403983  40.403383  36.579467  0.569267  \n",
       "4  9.260636  59.455267  39.803917  44.332750  41.310550  37.427900  0.577367  "
      ]
     },
     "execution_count": 10,
     "metadata": {},
     "output_type": "execute_result"
    }
   ],
   "source": [
    "data.head(5)"
   ]
  },
  {
   "cell_type": "markdown",
   "metadata": {},
   "source": [
    "## 2.2 Missing Values Check"
   ]
  },
  {
   "cell_type": "markdown",
   "metadata": {},
   "source": [
    "Before building every machine learning models, there are several necessary steps needed. One without doubt is to check missing values as too many missing values can affect our model performance and therefore methods like **imputation** is needed for some specific machine learning algorithms.\n",
    "\n",
    "Since we build our model data from raw data, there should not be any missing values. However there is no harm to check."
   ]
  },
  {
   "cell_type": "code",
   "execution_count": 11,
   "metadata": {},
   "outputs": [],
   "source": [
    "#check missing values\n",
    "#here I use a function I wrote before\n",
    "\n",
    "def miss_value_table(df):\n",
    "    mis_val=df.isnull().sum()\n",
    "    mis_val_perc = 100 * df.isnull().sum()/len(df)\n",
    "    #make a table:\n",
    "    mis_val_table = pd.concat([mis_val,mis_val_perc],axis = 1)\n",
    "    #rename colums:\n",
    "    mis_val_rename = mis_val_table.rename(\n",
    "    columns = {0: \"Missing Value\",1: \"Percentage\"})\n",
    "    \n",
    "    #sort the value by descending order:\n",
    "    mis_val_rename = mis_val_rename[\n",
    "            mis_val_rename.iloc[:,1] != 0].sort_values(\n",
    "        'Percentage', ascending=False).round(1)\n",
    "    return mis_val_rename\n",
    "    "
   ]
  },
  {
   "cell_type": "code",
   "execution_count": 12,
   "metadata": {
    "scrolled": false
   },
   "outputs": [
    {
     "data": {
      "text/html": [
       "<div>\n",
       "<style scoped>\n",
       "    .dataframe tbody tr th:only-of-type {\n",
       "        vertical-align: middle;\n",
       "    }\n",
       "\n",
       "    .dataframe tbody tr th {\n",
       "        vertical-align: top;\n",
       "    }\n",
       "\n",
       "    .dataframe thead th {\n",
       "        text-align: right;\n",
       "    }\n",
       "</style>\n",
       "<table border=\"1\" class=\"dataframe\">\n",
       "  <thead>\n",
       "    <tr style=\"text-align: right;\">\n",
       "      <th></th>\n",
       "      <th>Missing Value</th>\n",
       "      <th>Percentage</th>\n",
       "    </tr>\n",
       "  </thead>\n",
       "  <tbody>\n",
       "  </tbody>\n",
       "</table>\n",
       "</div>"
      ],
      "text/plain": [
       "Empty DataFrame\n",
       "Columns: [Missing Value, Percentage]\n",
       "Index: []"
      ]
     },
     "execution_count": 12,
     "metadata": {},
     "output_type": "execute_result"
    }
   ],
   "source": [
    "miss_value_table(data)"
   ]
  },
  {
   "cell_type": "markdown",
   "metadata": {},
   "source": [
    "So we have no missing values for our dataset."
   ]
  },
  {
   "cell_type": "markdown",
   "metadata": {},
   "source": [
    "## 2.3 EDA(Exploratory data analysis)"
   ]
  },
  {
   "cell_type": "markdown",
   "metadata": {},
   "source": [
    "For classfication task, graphs like boxplot,correlation heatmap can help a lot for us to understand the relationship between target and features as well as relationship within features. Specifically, to predict internal pump leakage, if we can find features that is highly correlated we can use **feature engineering** methods to design new variables that can catch the variation in target variable more precisely."
   ]
  },
  {
   "cell_type": "code",
   "execution_count": 13,
   "metadata": {},
   "outputs": [
    {
     "data": {
      "image/png": "[encoded data removed]",
      "text/plain": [
       "<Figure size 1080x576 with 2 Axes>"
      ]
     },
     "metadata": {},
     "output_type": "display_data"
    }
   ],
   "source": [
    "plt.figure(figsize=(15,8))\n",
    "# calculate the correlation matrix\n",
    "corr = data.corr()\n",
    "\n",
    "mask = np.zeros_like(corr)\n",
    "mask[np.triu_indices_from(mask)] = True\n",
    "with sns.axes_style(\"white\"):\n",
    "    x = sns.heatmap(corr, mask=mask, vmax=.3, square=True,xticklabels=corr.columns,yticklabels=corr.columns)"
   ]
  },
  {
   "cell_type": "markdown",
   "metadata": {},
   "source": [
    "The above heatmap shows the correlation between every column in dataset,the darker each box get shows the correlation is stronger between two columns. For example, we can see for internal pump leakage column, it is comparably more correlated with **SE** and **PS3** while less correlated with other columns."
   ]
  },
  {
   "cell_type": "markdown",
   "metadata": {},
   "source": [
    "# 3. Data Preprocessing"
   ]
  },
  {
   "cell_type": "markdown",
   "metadata": {},
   "source": [
    "## 3.1 Data Type"
   ]
  },
  {
   "cell_type": "markdown",
   "metadata": {},
   "source": [
    "`dataframe.info` method is a quick way to look at the data type and the number of non-missing values.We can convert the columns with numbers into numeric data types by replacing the \"Not Available\" entries with np.nan which can be interpreted as floats if this is needed."
   ]
  },
  {
   "cell_type": "code",
   "execution_count": 14,
   "metadata": {
    "scrolled": true
   },
   "outputs": [
    {
     "name": "stdout",
     "output_type": "stream",
     "text": [
      "<class 'pandas.core.frame.DataFrame'>\n",
      "RangeIndex: 2205 entries, 0 to 2204\n",
      "Data columns (total 18 columns):\n",
      "CE                       2205 non-null float64\n",
      "CP                       2205 non-null float64\n",
      "EPS1                     2205 non-null float64\n",
      "FS1                      2205 non-null float64\n",
      "FS2                      2205 non-null float64\n",
      "Internal pump leakage    2205 non-null int64\n",
      "PS1                      2205 non-null float64\n",
      "PS2                      2205 non-null float64\n",
      "PS3                      2205 non-null float64\n",
      "PS4                      2205 non-null float64\n",
      "PS5                      2205 non-null float64\n",
      "PS6                      2205 non-null float64\n",
      "SE                       2205 non-null float64\n",
      "TS1                      2205 non-null float64\n",
      "TS2                      2205 non-null float64\n",
      "TS3                      2205 non-null float64\n",
      "TS4                      2205 non-null float64\n",
      "VS1                      2205 non-null float64\n",
      "dtypes: float64(17), int64(1)\n",
      "memory usage: 310.2 KB\n"
     ]
    }
   ],
   "source": [
    "data.info()"
   ]
  },
  {
   "cell_type": "markdown",
   "metadata": {},
   "source": [
    "Fair enough every columns is stored numerically and there is no missing values for imputation."
   ]
  },
  {
   "cell_type": "markdown",
   "metadata": {},
   "source": [
    "## 3.2 Train-Test Split"
   ]
  },
  {
   "cell_type": "markdown",
   "metadata": {},
   "source": [
    "In machine learning, we need to split our data into train and test set:\n",
    "\n",
    "- training set: which our model is trained on so can learn the relationship between features and target.\n",
    "- test set: which we don't use to train our model and only use for the purpose for testing the model performance. So by comparing the result from test set we can know which model can be better applied in real world example.\n",
    " \n"
   ]
  },
  {
   "cell_type": "markdown",
   "metadata": {},
   "source": [
    "In sklearn train-test split can be easily applied and random_state can be used to give consistent result."
   ]
  },
  {
   "cell_type": "code",
   "execution_count": 15,
   "metadata": {},
   "outputs": [],
   "source": [
    "label = data['Internal pump leakage']\n",
    "data = data.drop(columns = 'Internal pump leakage')"
   ]
  },
  {
   "cell_type": "code",
   "execution_count": 16,
   "metadata": {},
   "outputs": [],
   "source": [
    "#split the data into train and test sets\n",
    "from sklearn.model_selection import train_test_split\n",
    "\n",
    "X_train, X_test, y_train, y_test = train_test_split(data,label, test_size=0.2, random_state= 42)\n"
   ]
  },
  {
   "cell_type": "markdown",
   "metadata": {},
   "source": [
    "## 3.3 Scaling"
   ]
  },
  {
   "cell_type": "markdown",
   "metadata": {},
   "source": [
    "The final step to take before we can build our models is to scale the features. This is necessary because features are in different units, and we want to normalize the features so the units do not affect the algorithm. Linear Regression and Random Forest do not require feature scaling, but other methods, such as support vector machines and k nearest neighbors, do require it because they take into account the Euclidean distance between observations. For this reason, it is a best practice to scale features when we are comparing multiple algorithms."
   ]
  },
  {
   "cell_type": "code",
   "execution_count": 17,
   "metadata": {},
   "outputs": [
    {
     "name": "stdout",
     "output_type": "stream",
     "text": [
      "The shape of train features dataset is: (1764, 17)\n",
      "The shape of test features dataset is: (441, 17)\n"
     ]
    }
   ],
   "source": [
    "#check the shape of data\n",
    "print('The shape of train features dataset is:',X_train.shape)\n",
    "print('The shape of test features dataset is:',X_test.shape)"
   ]
  },
  {
   "cell_type": "markdown",
   "metadata": {},
   "source": [
    "Pipeline is a `sk-learn` object, a utility that provides a way to automate a machine learning workflow. It works by allowing several transformers to be chained together,for most cases we can impute missing values,scale data and so on.One can also add an estimator at the end of the pipeline."
   ]
  },
  {
   "cell_type": "code",
   "execution_count": 18,
   "metadata": {},
   "outputs": [],
   "source": [
    "#build a pipeline to scale data\n",
    "from sklearn.pipeline import Pipeline\n",
    "from sklearn.preprocessing import MinMaxScaler\n",
    "\n",
    "p = Pipeline([('scaler', MinMaxScaler(feature_range = (0, 1)))])\n",
    "\n",
    "#features transformation\n",
    "features = p.fit_transform(X_train)\n",
    "test_features = p.transform(X_test)"
   ]
  },
  {
   "cell_type": "markdown",
   "metadata": {},
   "source": [
    "# 4. Baseline Models"
   ]
  },
  {
   "cell_type": "markdown",
   "metadata": {},
   "source": [
    "We will compare three different models by using sklearn library:\n",
    "1. Logistic Regression\n",
    "2. K-Nearest Neighbors Classification\n",
    "3. Gradient Boosting Machine"
   ]
  },
  {
   "cell_type": "markdown",
   "metadata": {},
   "source": [
    "To compare the model performances, we are going to use sklearn default settings. Generally the settings will perform nicely, however to acheive a better result hyperparameter optimization is needed. That's why I am going to use default settings first to know which algoriths performs better, later I will try to tune the model by optimization."
   ]
  },
  {
   "cell_type": "markdown",
   "metadata": {},
   "source": [
    "## 4.1 Logistic Regression"
   ]
  },
  {
   "cell_type": "markdown",
   "metadata": {},
   "source": [
    "Logistic regression is based on the regression theory, each features were assigned a coeffiecent like linear regession models. Logistic regression model is easy to interpret as the coefficients can reflect change the features cann bring to the target, **however** logistic regression can give you lower accuracy compared to other models sometimes."
   ]
  },
  {
   "cell_type": "code",
   "execution_count": 19,
   "metadata": {},
   "outputs": [],
   "source": [
    "from sklearn.metrics import accuracy_score as acc"
   ]
  },
  {
   "cell_type": "code",
   "execution_count": 20,
   "metadata": {},
   "outputs": [
    {
     "data": {
      "text/plain": [
       "LogisticRegression(C=1.0, class_weight=None, dual=False, fit_intercept=True,\n",
       "          intercept_scaling=1, max_iter=100, multi_class='ovr', n_jobs=1,\n",
       "          penalty='l2', random_state=None, solver='liblinear', tol=0.0001,\n",
       "          verbose=0, warm_start=False)"
      ]
     },
     "execution_count": 20,
     "metadata": {},
     "output_type": "execute_result"
    }
   ],
   "source": [
    "#logistic regression \n",
    "from sklearn.linear_model import LogisticRegression\n",
    "\n",
    "logic = LogisticRegression()\n",
    "logic.fit(features,y_train)"
   ]
  },
  {
   "cell_type": "code",
   "execution_count": 21,
   "metadata": {},
   "outputs": [
    {
     "name": "stdout",
     "output_type": "stream",
     "text": [
      "The Accuracy of Logistic regression is:  0.7210884353741497\n"
     ]
    }
   ],
   "source": [
    "y_test_logic = logic.predict(test_features)\n",
    "print('The Accuracy of Logistic regression is: ',acc(y_test,y_test_logic))"
   ]
  },
  {
   "cell_type": "markdown",
   "metadata": {},
   "source": [
    "## 4.2 K-Nearest Neighbors Classification"
   ]
  },
  {
   "cell_type": "markdown",
   "metadata": {},
   "source": [
    "The k-Nearest-Neighbors (kNN) method of classification is one of the most common methods in machine learning. At its most basic level, it is essentially classification by finding the most similar data points in the training data, and making an educated guess based on their classifications."
   ]
  },
  {
   "cell_type": "code",
   "execution_count": 22,
   "metadata": {},
   "outputs": [
    {
     "data": {
      "text/plain": [
       "KNeighborsClassifier(algorithm='auto', leaf_size=30, metric='minkowski',\n",
       "           metric_params=None, n_jobs=1, n_neighbors=5, p=2,\n",
       "           weights='uniform')"
      ]
     },
     "execution_count": 22,
     "metadata": {},
     "output_type": "execute_result"
    }
   ],
   "source": [
    "#KNN methods\n",
    "from sklearn.neighbors import KNeighborsClassifier\n",
    "knn = KNeighborsClassifier()\n",
    "\n",
    "knn.fit(features,y_train)\n"
   ]
  },
  {
   "cell_type": "code",
   "execution_count": 23,
   "metadata": {},
   "outputs": [
    {
     "name": "stdout",
     "output_type": "stream",
     "text": [
      "The Accuracy of KNN method is:  0.9886621315192744\n"
     ]
    }
   ],
   "source": [
    "y_pred_knn = knn.predict(test_features)\n",
    "print('The Accuracy of KNN method is: ',acc(y_test,y_pred_knn))"
   ]
  },
  {
   "cell_type": "markdown",
   "metadata": {},
   "source": [
    "## 4.3 Gradient Boosting Machine"
   ]
  },
  {
   "cell_type": "markdown",
   "metadata": {},
   "source": [
    "Gradient Boosting Machine is based on decision tree models,it's also is a non-linear model. Unlike Randomforest which build as many tree as possible, gbm focused on tunning existing trees by fitting over residuals. On kaggle website,to acheive better result, gbm based methods are taking a large portion on leaderboard."
   ]
  },
  {
   "cell_type": "code",
   "execution_count": 24,
   "metadata": {},
   "outputs": [],
   "source": [
    "#gbm methods\n",
    "from sklearn.ensemble import GradientBoostingClassifier"
   ]
  },
  {
   "cell_type": "code",
   "execution_count": 25,
   "metadata": {},
   "outputs": [
    {
     "data": {
      "text/plain": [
       "GradientBoostingClassifier(criterion='friedman_mse', init=None,\n",
       "              learning_rate=0.1, loss='deviance', max_depth=3,\n",
       "              max_features=None, max_leaf_nodes=None,\n",
       "              min_impurity_decrease=0.0, min_impurity_split=None,\n",
       "              min_samples_leaf=1, min_samples_split=2,\n",
       "              min_weight_fraction_leaf=0.0, n_estimators=100,\n",
       "              presort='auto', random_state=42, subsample=1.0, verbose=0,\n",
       "              warm_start=False)"
      ]
     },
     "execution_count": 25,
     "metadata": {},
     "output_type": "execute_result"
    }
   ],
   "source": [
    "gbm = GradientBoostingClassifier(random_state= 42)\n",
    "\n",
    "gbm.fit(features,y_train)"
   ]
  },
  {
   "cell_type": "code",
   "execution_count": 26,
   "metadata": {},
   "outputs": [
    {
     "name": "stdout",
     "output_type": "stream",
     "text": [
      "The Accuracy of GBM method is:  0.9863945578231292\n"
     ]
    }
   ],
   "source": [
    "y_pred_gbm = gbm.predict(test_features)\n",
    "print('The Accuracy of GBM method is: ',acc(y_test,y_pred_gbm))"
   ]
  },
  {
   "cell_type": "markdown",
   "metadata": {},
   "source": [
    "## 4.4 Model Comparison"
   ]
  },
  {
   "cell_type": "code",
   "execution_count": 27,
   "metadata": {},
   "outputs": [],
   "source": [
    "#model result comparison \n",
    "\n",
    "acc_train = [acc(y_train,logic.predict(features)),\n",
    "                 acc(y_train,knn.predict(features)),\n",
    "                 acc(y_train,gbm.predict(features))]\n",
    "\n",
    "acc_test = [acc(y_test,logic.predict(test_features)),\n",
    "                 acc(y_test,knn.predict(test_features)),\n",
    "                 acc(y_test,gbm.predict(test_features))]"
   ]
  },
  {
   "cell_type": "code",
   "execution_count": 28,
   "metadata": {},
   "outputs": [],
   "source": [
    "figsize(6,8)\n",
    "\n",
    "plt.style.use('fivethirtyeight')\n",
    "\n",
    "#dataframe to hold the results\n",
    "model_comparison = pd.DataFrame({0:['Logistic Regression', 'K-Nearest Neighbors',\n",
    "                                           'Gradient Boosted Machine'],\n",
    "                                 1:acc_train,\n",
    "                                 2:acc_test})"
   ]
  },
  {
   "cell_type": "code",
   "execution_count": 29,
   "metadata": {},
   "outputs": [],
   "source": [
    "model_comparison = model_comparison.rename({0:\"Method\",\n",
    "                          1: \"Train Accuracy\",\n",
    "                          2: \"Test Accuracy\"},axis =1)"
   ]
  },
  {
   "cell_type": "code",
   "execution_count": 30,
   "metadata": {
    "scrolled": false
   },
   "outputs": [
    {
     "data": {
      "text/html": [
       "<div>\n",
       "<style scoped>\n",
       "    .dataframe tbody tr th:only-of-type {\n",
       "        vertical-align: middle;\n",
       "    }\n",
       "\n",
       "    .dataframe tbody tr th {\n",
       "        vertical-align: top;\n",
       "    }\n",
       "\n",
       "    .dataframe thead th {\n",
       "        text-align: right;\n",
       "    }\n",
       "</style>\n",
       "<table border=\"1\" class=\"dataframe\">\n",
       "  <thead>\n",
       "    <tr style=\"text-align: right;\">\n",
       "      <th></th>\n",
       "      <th>Method</th>\n",
       "      <th>Train Accuracy</th>\n",
       "      <th>Test Accuracy</th>\n",
       "    </tr>\n",
       "  </thead>\n",
       "  <tbody>\n",
       "    <tr>\n",
       "      <th>0</th>\n",
       "      <td>Logistic Regression</td>\n",
       "      <td>0.731293</td>\n",
       "      <td>0.721088</td>\n",
       "    </tr>\n",
       "    <tr>\n",
       "      <th>1</th>\n",
       "      <td>K-Nearest Neighbors</td>\n",
       "      <td>0.991497</td>\n",
       "      <td>0.988662</td>\n",
       "    </tr>\n",
       "    <tr>\n",
       "      <th>2</th>\n",
       "      <td>Gradient Boosted Machine</td>\n",
       "      <td>1.000000</td>\n",
       "      <td>0.986395</td>\n",
       "    </tr>\n",
       "  </tbody>\n",
       "</table>\n",
       "</div>"
      ],
      "text/plain": [
       "                     Method  Train Accuracy  Test Accuracy\n",
       "0       Logistic Regression        0.731293       0.721088\n",
       "1       K-Nearest Neighbors        0.991497       0.988662\n",
       "2  Gradient Boosted Machine        1.000000       0.986395"
      ]
     },
     "execution_count": 30,
     "metadata": {},
     "output_type": "execute_result"
    }
   ],
   "source": [
    "model_comparison"
   ]
  },
  {
   "cell_type": "code",
   "execution_count": 31,
   "metadata": {},
   "outputs": [
    {
     "data": {
      "text/plain": [
       "Text(0.5,1,'Model Comparison on Test Accuracy')"
      ]
     },
     "execution_count": 31,
     "metadata": {},
     "output_type": "execute_result"
    },
    {
     "data": {
      "image/png": "[encoded data removed]",
      "text/plain": [
       "<Figure size 432x576 with 1 Axes>"
      ]
     },
     "metadata": {},
     "output_type": "display_data"
    }
   ],
   "source": [
    "model_comparison.sort_values(by = \"Test Accuracy\",ascending = False).plot(\n",
    "x = 'Method', y = 'Test Accuracy',kind = 'barh',color = \"red\",edgecolor = 'black');\n",
    "plt.ylabel('');plt.xlabel('Accuracy');\n",
    "plt.xticks(size = 4);\n",
    "plt.title(\"Model Comparison on Test Accuracy\",size  =30)"
   ]
  },
  {
   "cell_type": "markdown",
   "metadata": {},
   "source": [
    "Depend on the result, **KNN** method works the best out of all three models. Logistic regression works the worst while gbm model is **overfitting** in this case. Generally gbm works better but in here since a simpler model - KNN works better so in the following I am going to tune the parameter(s) for the KNN model so we can achieve a better result."
   ]
  },
  {
   "cell_type": "markdown",
   "metadata": {},
   "source": [
    "# 5. Model Optimization\n",
    "In machine learning, optimizing a model means finding the best set of hyperparameters for a particular problem.In contrast to model parameters,hyperparametes are best thought of as settings for a machine learning algorithm that are tuned by the data scientist before training. Examples would be the number of trees in the random forest, or the number of neighbors used in K Nearest Neighbors."
   ]
  },
  {
   "cell_type": "markdown",
   "metadata": {},
   "source": [
    "For the method of finding the best parameters, methods like grid search,random search and bayesian optimization are common methods.In our specific application case,we will try to find the best `k` to tune our model.In this part we will use random search first ,then apply grid search to find the best k.\n",
    "\n"
   ]
  },
  {
   "cell_type": "markdown",
   "metadata": {},
   "source": [
    "We are going to find our best hyperparameters through random search and cross validation.\n",
    "1. Random serach: This will give you a set of options, and each time randomly pick the combination of hyperparameters.\n",
    "2. Grid serach: Compare to random search, this will pick every combination of hyperparameters to try it out,of course this will give the best train model however sometimes it's timeconsuming and will cause **overfitting.**"
   ]
  },
  {
   "cell_type": "markdown",
   "metadata": {},
   "source": [
    "The documentation of knn parameters can be find [here.](http://scikit-learn.org/stable/modules/generated/sklearn.neighbors.KNeighborsClassifier.html)\n"
   ]
  },
  {
   "cell_type": "code",
   "execution_count": 32,
   "metadata": {},
   "outputs": [],
   "source": [
    "# Hyperparameter tuning module\n",
    "from sklearn.model_selection import RandomizedSearchCV, GridSearchCV"
   ]
  },
  {
   "cell_type": "code",
   "execution_count": 33,
   "metadata": {},
   "outputs": [
    {
     "name": "stdout",
     "output_type": "stream",
     "text": [
      "Fitting 4 folds for each of 5 candidates, totalling 20 fits\n"
     ]
    },
    {
     "name": "stderr",
     "output_type": "stream",
     "text": [
      "[Parallel(n_jobs=-1)]: Done  20 out of  20 | elapsed:    0.3s finished\n"
     ]
    },
    {
     "data": {
      "text/html": [
       "<div>\n",
       "<style scoped>\n",
       "    .dataframe tbody tr th:only-of-type {\n",
       "        vertical-align: middle;\n",
       "    }\n",
       "\n",
       "    .dataframe tbody tr th {\n",
       "        vertical-align: top;\n",
       "    }\n",
       "\n",
       "    .dataframe thead th {\n",
       "        text-align: right;\n",
       "    }\n",
       "</style>\n",
       "<table border=\"1\" class=\"dataframe\">\n",
       "  <thead>\n",
       "    <tr style=\"text-align: right;\">\n",
       "      <th></th>\n",
       "      <th>mean_fit_time</th>\n",
       "      <th>mean_score_time</th>\n",
       "      <th>mean_test_score</th>\n",
       "      <th>mean_train_score</th>\n",
       "      <th>param_n_neighbors</th>\n",
       "      <th>param_weights</th>\n",
       "      <th>params</th>\n",
       "      <th>rank_test_score</th>\n",
       "      <th>split0_test_score</th>\n",
       "      <th>split0_train_score</th>\n",
       "      <th>split1_test_score</th>\n",
       "      <th>split1_train_score</th>\n",
       "      <th>split2_test_score</th>\n",
       "      <th>split2_train_score</th>\n",
       "      <th>split3_test_score</th>\n",
       "      <th>split3_train_score</th>\n",
       "      <th>std_fit_time</th>\n",
       "      <th>std_score_time</th>\n",
       "      <th>std_test_score</th>\n",
       "      <th>std_train_score</th>\n",
       "    </tr>\n",
       "  </thead>\n",
       "  <tbody>\n",
       "    <tr>\n",
       "      <th>0</th>\n",
       "      <td>0.006060</td>\n",
       "      <td>0.016538</td>\n",
       "      <td>0.985261</td>\n",
       "      <td>1.000000</td>\n",
       "      <td>12</td>\n",
       "      <td>distance</td>\n",
       "      <td>{'weights': 'distance', 'n_neighbors': 12}</td>\n",
       "      <td>1</td>\n",
       "      <td>0.981900</td>\n",
       "      <td>1.000000</td>\n",
       "      <td>0.979592</td>\n",
       "      <td>1.000000</td>\n",
       "      <td>0.984127</td>\n",
       "      <td>1.000000</td>\n",
       "      <td>0.995455</td>\n",
       "      <td>1.000000</td>\n",
       "      <td>0.000555</td>\n",
       "      <td>0.005144</td>\n",
       "      <td>0.006091</td>\n",
       "      <td>0.000000</td>\n",
       "    </tr>\n",
       "    <tr>\n",
       "      <th>3</th>\n",
       "      <td>0.001799</td>\n",
       "      <td>0.007884</td>\n",
       "      <td>0.984127</td>\n",
       "      <td>0.985450</td>\n",
       "      <td>9</td>\n",
       "      <td>uniform</td>\n",
       "      <td>{'weights': 'uniform', 'n_neighbors': 9}</td>\n",
       "      <td>2</td>\n",
       "      <td>0.977376</td>\n",
       "      <td>0.984871</td>\n",
       "      <td>0.977324</td>\n",
       "      <td>0.986395</td>\n",
       "      <td>0.988662</td>\n",
       "      <td>0.986395</td>\n",
       "      <td>0.993182</td>\n",
       "      <td>0.984139</td>\n",
       "      <td>0.000119</td>\n",
       "      <td>0.000753</td>\n",
       "      <td>0.006970</td>\n",
       "      <td>0.000980</td>\n",
       "    </tr>\n",
       "    <tr>\n",
       "      <th>1</th>\n",
       "      <td>0.005396</td>\n",
       "      <td>0.015323</td>\n",
       "      <td>0.974490</td>\n",
       "      <td>1.000000</td>\n",
       "      <td>27</td>\n",
       "      <td>distance</td>\n",
       "      <td>{'weights': 'distance', 'n_neighbors': 27}</td>\n",
       "      <td>3</td>\n",
       "      <td>0.970588</td>\n",
       "      <td>1.000000</td>\n",
       "      <td>0.970522</td>\n",
       "      <td>1.000000</td>\n",
       "      <td>0.975057</td>\n",
       "      <td>1.000000</td>\n",
       "      <td>0.981818</td>\n",
       "      <td>1.000000</td>\n",
       "      <td>0.005741</td>\n",
       "      <td>0.003593</td>\n",
       "      <td>0.004607</td>\n",
       "      <td>0.000000</td>\n",
       "    </tr>\n",
       "    <tr>\n",
       "      <th>4</th>\n",
       "      <td>0.001708</td>\n",
       "      <td>0.010341</td>\n",
       "      <td>0.963719</td>\n",
       "      <td>0.966742</td>\n",
       "      <td>25</td>\n",
       "      <td>uniform</td>\n",
       "      <td>{'weights': 'uniform', 'n_neighbors': 25}</td>\n",
       "      <td>4</td>\n",
       "      <td>0.959276</td>\n",
       "      <td>0.965961</td>\n",
       "      <td>0.956916</td>\n",
       "      <td>0.966742</td>\n",
       "      <td>0.963719</td>\n",
       "      <td>0.968254</td>\n",
       "      <td>0.975000</td>\n",
       "      <td>0.966012</td>\n",
       "      <td>0.000128</td>\n",
       "      <td>0.002020</td>\n",
       "      <td>0.006947</td>\n",
       "      <td>0.000926</td>\n",
       "    </tr>\n",
       "    <tr>\n",
       "      <th>2</th>\n",
       "      <td>0.002114</td>\n",
       "      <td>0.011283</td>\n",
       "      <td>0.962585</td>\n",
       "      <td>0.966175</td>\n",
       "      <td>27</td>\n",
       "      <td>uniform</td>\n",
       "      <td>{'weights': 'uniform', 'n_neighbors': 27}</td>\n",
       "      <td>5</td>\n",
       "      <td>0.961538</td>\n",
       "      <td>0.965961</td>\n",
       "      <td>0.954649</td>\n",
       "      <td>0.965231</td>\n",
       "      <td>0.961451</td>\n",
       "      <td>0.967498</td>\n",
       "      <td>0.972727</td>\n",
       "      <td>0.966012</td>\n",
       "      <td>0.000490</td>\n",
       "      <td>0.003303</td>\n",
       "      <td>0.006481</td>\n",
       "      <td>0.000824</td>\n",
       "    </tr>\n",
       "  </tbody>\n",
       "</table>\n",
       "</div>"
      ],
      "text/plain": [
       "   mean_fit_time  mean_score_time  mean_test_score  mean_train_score  \\\n",
       "0       0.006060         0.016538         0.985261          1.000000   \n",
       "3       0.001799         0.007884         0.984127          0.985450   \n",
       "1       0.005396         0.015323         0.974490          1.000000   \n",
       "4       0.001708         0.010341         0.963719          0.966742   \n",
       "2       0.002114         0.011283         0.962585          0.966175   \n",
       "\n",
       "  param_n_neighbors param_weights                                      params  \\\n",
       "0                12      distance  {'weights': 'distance', 'n_neighbors': 12}   \n",
       "3                 9       uniform    {'weights': 'uniform', 'n_neighbors': 9}   \n",
       "1                27      distance  {'weights': 'distance', 'n_neighbors': 27}   \n",
       "4                25       uniform   {'weights': 'uniform', 'n_neighbors': 25}   \n",
       "2                27       uniform   {'weights': 'uniform', 'n_neighbors': 27}   \n",
       "\n",
       "   rank_test_score  split0_test_score  split0_train_score  split1_test_score  \\\n",
       "0                1           0.981900            1.000000           0.979592   \n",
       "3                2           0.977376            0.984871           0.977324   \n",
       "1                3           0.970588            1.000000           0.970522   \n",
       "4                4           0.959276            0.965961           0.956916   \n",
       "2                5           0.961538            0.965961           0.954649   \n",
       "\n",
       "   split1_train_score  split2_test_score  split2_train_score  \\\n",
       "0            1.000000           0.984127            1.000000   \n",
       "3            0.986395           0.988662            0.986395   \n",
       "1            1.000000           0.975057            1.000000   \n",
       "4            0.966742           0.963719            0.968254   \n",
       "2            0.965231           0.961451            0.967498   \n",
       "\n",
       "   split3_test_score  split3_train_score  std_fit_time  std_score_time  \\\n",
       "0           0.995455            1.000000      0.000555        0.005144   \n",
       "3           0.993182            0.984139      0.000119        0.000753   \n",
       "1           0.981818            1.000000      0.005741        0.003593   \n",
       "4           0.975000            0.966012      0.000128        0.002020   \n",
       "2           0.972727            0.966012      0.000490        0.003303   \n",
       "\n",
       "   std_test_score  std_train_score  \n",
       "0        0.006091         0.000000  \n",
       "3        0.006970         0.000980  \n",
       "1        0.004607         0.000000  \n",
       "4        0.006947         0.000926  \n",
       "2        0.006481         0.000824  "
      ]
     },
     "execution_count": 33,
     "metadata": {},
     "output_type": "execute_result"
    }
   ],
   "source": [
    "#Number of neighbors to use \n",
    "n_neighbors = list(np.arange(3,30,1))\n",
    "\n",
    "#weight function used in prediction\n",
    "weights = ['uniform','distance']\n",
    "\n",
    "#define the grid of hyperparameters to search \n",
    "hyperparameters_grid = {'n_neighbors':n_neighbors,\n",
    "                        'weights':weights}\n",
    "\n",
    "#create the model to use for hyperparameter tuning \n",
    "model = KNeighborsClassifier()\n",
    "\n",
    "#set up the random search with 4-fold cross validation (why I think it's should be 5 or 10)\n",
    "random_cv = RandomizedSearchCV(estimator = model,\n",
    "                               param_distributions = hyperparameters_grid,\n",
    "                               cv = 4,n_iter = 5,\n",
    "                               scoring ='accuracy',\n",
    "                               n_jobs = -1,verbose = 1,\n",
    "                               return_train_score = True,\n",
    "                               random_state = 42)\n",
    "\n",
    "#fit on the training data\n",
    "random_cv.fit(features,y_train)\n",
    "\n",
    "# Get all of the cv results and sort by the test performance\n",
    "random_results = pd.DataFrame(random_cv.cv_results_).sort_values('mean_test_score', ascending = False)\n",
    "\n",
    "random_results.head(5)"
   ]
  },
  {
   "cell_type": "markdown",
   "metadata": {},
   "source": [
    "Using random search is a good method to narrow down the possible hyperparameters to try. Initially, we had no idea which combination would work the best, but now we know the best `weights` to choose is 'distance'."
   ]
  },
  {
   "cell_type": "markdown",
   "metadata": {},
   "source": [
    "Continuing on finding the best `neightbors`,we will use grid search with a grid that only has the n_estimators hyperparameter. We will evaluate a range of trees then plot the training and testing performance to get an idea of what increasing the number of trees does for our model. We will fix other hyperparameters at the best values returned from random search to isolate the effect."
   ]
  },
  {
   "cell_type": "code",
   "execution_count": 34,
   "metadata": {},
   "outputs": [
    {
     "name": "stdout",
     "output_type": "stream",
     "text": [
      "Fitting 4 folds for each of 98 candidates, totalling 392 fits\n"
     ]
    },
    {
     "name": "stderr",
     "output_type": "stream",
     "text": [
      "[Parallel(n_jobs=-1)]: Done 392 out of 392 | elapsed:    7.2s finished\n"
     ]
    },
    {
     "data": {
      "text/html": [
       "<div>\n",
       "<style scoped>\n",
       "    .dataframe tbody tr th:only-of-type {\n",
       "        vertical-align: middle;\n",
       "    }\n",
       "\n",
       "    .dataframe tbody tr th {\n",
       "        vertical-align: top;\n",
       "    }\n",
       "\n",
       "    .dataframe thead th {\n",
       "        text-align: right;\n",
       "    }\n",
       "</style>\n",
       "<table border=\"1\" class=\"dataframe\">\n",
       "  <thead>\n",
       "    <tr style=\"text-align: right;\">\n",
       "      <th></th>\n",
       "      <th>mean_fit_time</th>\n",
       "      <th>mean_score_time</th>\n",
       "      <th>mean_test_score</th>\n",
       "      <th>mean_train_score</th>\n",
       "      <th>param_n_neighbors</th>\n",
       "      <th>params</th>\n",
       "      <th>rank_test_score</th>\n",
       "      <th>split0_test_score</th>\n",
       "      <th>split0_train_score</th>\n",
       "      <th>split1_test_score</th>\n",
       "      <th>split1_train_score</th>\n",
       "      <th>split2_test_score</th>\n",
       "      <th>split2_train_score</th>\n",
       "      <th>split3_test_score</th>\n",
       "      <th>split3_train_score</th>\n",
       "      <th>std_fit_time</th>\n",
       "      <th>std_score_time</th>\n",
       "      <th>std_test_score</th>\n",
       "      <th>std_train_score</th>\n",
       "    </tr>\n",
       "  </thead>\n",
       "  <tbody>\n",
       "    <tr>\n",
       "      <th>0</th>\n",
       "      <td>0.007390</td>\n",
       "      <td>0.011624</td>\n",
       "      <td>0.993764</td>\n",
       "      <td>1.0</td>\n",
       "      <td>2</td>\n",
       "      <td>{'n_neighbors': 2}</td>\n",
       "      <td>1</td>\n",
       "      <td>0.990950</td>\n",
       "      <td>1.0</td>\n",
       "      <td>0.995465</td>\n",
       "      <td>1.0</td>\n",
       "      <td>0.993197</td>\n",
       "      <td>1.0</td>\n",
       "      <td>0.995455</td>\n",
       "      <td>1.0</td>\n",
       "      <td>0.000489</td>\n",
       "      <td>0.000700</td>\n",
       "      <td>0.001871</td>\n",
       "      <td>0.0</td>\n",
       "    </tr>\n",
       "    <tr>\n",
       "      <th>1</th>\n",
       "      <td>0.002035</td>\n",
       "      <td>0.006460</td>\n",
       "      <td>0.987528</td>\n",
       "      <td>1.0</td>\n",
       "      <td>3</td>\n",
       "      <td>{'n_neighbors': 3}</td>\n",
       "      <td>3</td>\n",
       "      <td>0.986425</td>\n",
       "      <td>1.0</td>\n",
       "      <td>0.981859</td>\n",
       "      <td>1.0</td>\n",
       "      <td>0.988662</td>\n",
       "      <td>1.0</td>\n",
       "      <td>0.993182</td>\n",
       "      <td>1.0</td>\n",
       "      <td>0.000141</td>\n",
       "      <td>0.000373</td>\n",
       "      <td>0.004078</td>\n",
       "      <td>0.0</td>\n",
       "    </tr>\n",
       "    <tr>\n",
       "      <th>2</th>\n",
       "      <td>0.001978</td>\n",
       "      <td>0.007238</td>\n",
       "      <td>0.988095</td>\n",
       "      <td>1.0</td>\n",
       "      <td>4</td>\n",
       "      <td>{'n_neighbors': 4}</td>\n",
       "      <td>2</td>\n",
       "      <td>0.986425</td>\n",
       "      <td>1.0</td>\n",
       "      <td>0.981859</td>\n",
       "      <td>1.0</td>\n",
       "      <td>0.988662</td>\n",
       "      <td>1.0</td>\n",
       "      <td>0.995455</td>\n",
       "      <td>1.0</td>\n",
       "      <td>0.000315</td>\n",
       "      <td>0.002002</td>\n",
       "      <td>0.004900</td>\n",
       "      <td>0.0</td>\n",
       "    </tr>\n",
       "  </tbody>\n",
       "</table>\n",
       "</div>"
      ],
      "text/plain": [
       "   mean_fit_time  mean_score_time  mean_test_score  mean_train_score  \\\n",
       "0       0.007390         0.011624         0.993764               1.0   \n",
       "1       0.002035         0.006460         0.987528               1.0   \n",
       "2       0.001978         0.007238         0.988095               1.0   \n",
       "\n",
       "  param_n_neighbors              params  rank_test_score  split0_test_score  \\\n",
       "0                 2  {'n_neighbors': 2}                1           0.990950   \n",
       "1                 3  {'n_neighbors': 3}                3           0.986425   \n",
       "2                 4  {'n_neighbors': 4}                2           0.986425   \n",
       "\n",
       "   split0_train_score  split1_test_score  split1_train_score  \\\n",
       "0                 1.0           0.995465                 1.0   \n",
       "1                 1.0           0.981859                 1.0   \n",
       "2                 1.0           0.981859                 1.0   \n",
       "\n",
       "   split2_test_score  split2_train_score  split3_test_score  \\\n",
       "0           0.993197                 1.0           0.995455   \n",
       "1           0.988662                 1.0           0.993182   \n",
       "2           0.988662                 1.0           0.995455   \n",
       "\n",
       "   split3_train_score  std_fit_time  std_score_time  std_test_score  \\\n",
       "0                 1.0      0.000489        0.000700        0.001871   \n",
       "1                 1.0      0.000141        0.000373        0.004078   \n",
       "2                 1.0      0.000315        0.002002        0.004900   \n",
       "\n",
       "   std_train_score  \n",
       "0              0.0  \n",
       "1              0.0  \n",
       "2              0.0  "
      ]
     },
     "execution_count": 34,
     "metadata": {},
     "output_type": "execute_result"
    }
   ],
   "source": [
    "#create a range of trees to evaluate\n",
    "knn_grid = {'n_neighbors': list(np.arange(2,100,1))}\n",
    "\n",
    "model = KNeighborsClassifier(weights = 'distance')\n",
    "\n",
    "#Grid Search object using the trees range and the random forest model \n",
    "\n",
    "grid_search = GridSearchCV(estimator = model,\n",
    "                           param_grid = knn_grid, #not param_distributions\n",
    "                           cv = 4,scoring ='accuracy',\n",
    "                          verbose = 1,n_jobs = -1,return_train_score = True)  #return_train_score\n",
    "\n",
    "#fit the train data\n",
    "grid_search.fit(features,y_train)\n",
    "\n",
    "#get the results into a dataframe \n",
    "results = pd.DataFrame(grid_search.cv_results_)\n",
    "\n",
    "results.head(3)\n",
    "\n"
   ]
  },
  {
   "cell_type": "markdown",
   "metadata": {},
   "source": [
    "So we will choose `n_neighbors` = 2 and `weights` = 'distance' for our final model.\n",
    "Also we can try to output the graph of different neighbors."
   ]
  },
  {
   "cell_type": "code",
   "execution_count": 35,
   "metadata": {},
   "outputs": [
    {
     "data": {
      "text/plain": [
       "Text(0.5,1,'Performance vs Number of Neighbors')"
      ]
     },
     "execution_count": 35,
     "metadata": {},
     "output_type": "execute_result"
    },
    {
     "data": {
      "image/png": "[encoded data removed]",
      "text/plain": [
       "<Figure size 576x576 with 1 Axes>"
      ]
     },
     "metadata": {},
     "output_type": "display_data"
    }
   ],
   "source": [
    "#plot the training and testing vs number od trees \n",
    "\n",
    "figsize(8,8)\n",
    "plt.style.use('fivethirtyeight')\n",
    "plt.plot(results['param_n_neighbors'],results['mean_test_score'], label = 'Testing Error')\n",
    "plt.plot(results['param_n_neighbors'],results['mean_train_score'],label = \"Train Error\")\n",
    "plt.legend()\n",
    "plt.xlabel('number of neighbors');plt.ylabel('Accuracy');\n",
    "plt.title('Performance vs Number of Neighbors')"
   ]
  },
  {
   "cell_type": "markdown",
   "metadata": {},
   "source": [
    "So now we have the optimized **KNN** model,lastly we make comparison between untuned model and tuned model."
   ]
  },
  {
   "cell_type": "code",
   "execution_count": 36,
   "metadata": {
    "scrolled": false
   },
   "outputs": [
    {
     "data": {
      "text/html": [
       "<div>\n",
       "<style scoped>\n",
       "    .dataframe tbody tr th:only-of-type {\n",
       "        vertical-align: middle;\n",
       "    }\n",
       "\n",
       "    .dataframe tbody tr th {\n",
       "        vertical-align: top;\n",
       "    }\n",
       "\n",
       "    .dataframe thead th {\n",
       "        text-align: right;\n",
       "    }\n",
       "</style>\n",
       "<table border=\"1\" class=\"dataframe\">\n",
       "  <thead>\n",
       "    <tr style=\"text-align: right;\">\n",
       "      <th></th>\n",
       "      <th>Model</th>\n",
       "      <th>Test Accuracy</th>\n",
       "      <th>Train Accuracy</th>\n",
       "    </tr>\n",
       "  </thead>\n",
       "  <tbody>\n",
       "    <tr>\n",
       "      <th>1</th>\n",
       "      <td>Tuned KNN</td>\n",
       "      <td>0.993197</td>\n",
       "      <td>1.000000</td>\n",
       "    </tr>\n",
       "    <tr>\n",
       "      <th>0</th>\n",
       "      <td>Untuned KNN</td>\n",
       "      <td>0.988662</td>\n",
       "      <td>0.991497</td>\n",
       "    </tr>\n",
       "  </tbody>\n",
       "</table>\n",
       "</div>"
      ],
      "text/plain": [
       "         Model  Test Accuracy  Train Accuracy\n",
       "1    Tuned KNN       0.993197        1.000000\n",
       "0  Untuned KNN       0.988662        0.991497"
      ]
     },
     "execution_count": 36,
     "metadata": {},
     "output_type": "execute_result"
    }
   ],
   "source": [
    "#Untuned KNN methods\n",
    "from sklearn.neighbors import KNeighborsClassifier\n",
    "knn_untune = KNeighborsClassifier()\n",
    "knn_untune.fit(features,y_train)\n",
    "\n",
    "#tuned KNN methods\n",
    "from sklearn.neighbors import KNeighborsClassifier\n",
    "knn_tuned = KNeighborsClassifier(n_neighbors=2, weights='distance')\n",
    "knn_tuned.fit(features,y_train)\n",
    "\n",
    "acc_train_knn = [acc(y_train,knn_untune.predict(features)),\n",
    "                 acc(y_train,knn_tuned.predict(features))]\n",
    "\n",
    "acc_test_knn = [acc(y_test,knn_untune.predict(test_features)),\n",
    "                 acc(y_test,knn_tuned.predict(test_features))]\n",
    "\n",
    "#dataframe to hold the results\n",
    "model_comparasion_knn = pd.DataFrame({'Model':['Untuned KNN', 'Tuned KNN'],\n",
    "                                      'Train Accuracy': acc_train_knn,\n",
    "                                      'Test Accuracy' : acc_test_knn})\n",
    "\n",
    "model_comparasion_knn.sort_values('Test Accuracy',ascending = False)"
   ]
  },
  {
   "cell_type": "markdown",
   "metadata": {},
   "source": [
    "# 6. Conclusion"
   ]
  },
  {
   "cell_type": "markdown",
   "metadata": {},
   "source": [
    "In this project, we applied several steps in machine learning task:\n",
    "- Cleansing Data: This part is very common,even without machine learning models data analyst constantly need to clean their data before any analysis.\n",
    "- EDA: Exploratory data analysis will give us valuable information and visually present those information for further use purpose.\n",
    "- Machine Learning Model Application: Sk-learn library has made it very easy to apply almost every machine learning methods in easy and similiar steps,in this project we tried Logistic,KNN,Gradient Boosting Machine.\n",
    "- Model Optimization:  This step is about fine tunning parameters to acheive a better result, for large dataset this is extremely important to offer a better predictive power.m"
   ]
  },
  {
   "cell_type": "markdown",
   "metadata": {},
   "source": [
    "Looking into detail of three models we chose:\n",
    "- Logistic Regression: Result has shown logistic regression works the worst for our case.Looking into the assumption of logistic regression, one is regression requires there to be little or no multicollinearity among the independent variables. This means that the independent variables should not be too highly correlated with each other.However,from the **heatmap** we clearly see there some variables like pressure sensors are highly correlated with each others.\n",
    "- KNN: The algorithm is basically finding the closet points within k neighbors. It doesn't have strict assumption about data,however due to dimension issues KNN tend to work with small dataset with lower dimensions.For higher dimensions,KNN method falls into a common machine learning issue called \"The curse of dimensionality\".\n",
    "- GBM:It builds the model in a stage-wise fashion and constanly improve the performance over weak trees. GBM method works very well on large dataset.The drawback will be requires fine tunning over a whole set of hyperparameters also sometimes training time make take a while."
   ]
  },
  {
   "cell_type": "markdown",
   "metadata": {},
   "source": [
    "The results showed us that machine learning is applicable to our problem, with the final model able to the predict the Internal pump leakage of accuracy being **0.993197**. We also saw that hyperparamter tuning was able to improve the performance of the model."
   ]
  },
  {
   "cell_type": "markdown",
   "metadata": {},
   "source": [
    "# Appendix:\n",
    "\n",
    "- [Detailed Introduction of the dataset](https://archive.ics.uci.edu/ml/datasets/Condition+monitoring+of+hydraulic+systems)\n",
    "- [Logistic Regression In Detail](https://towardsdatascience.com/logistic-regression-a-z-443a16836b5d)\n",
    "- [KNN In Detail](https://medium.com/@mohtedibf/in-depth-parameter-tuning-for-knn-4c0de485baf6)\n",
    "- [GBM Mechanism](https://towardsdatascience.com/boosting-algorithm-gbm-97737c63daa3)"
   ]
  }
 ],
 "metadata": {
  "kernelspec": {
   "display_name": "Python 3",
   "language": "python",
   "name": "python3"
  },
  "language_info": {
   "codemirror_mode": {
    "name": "ipython",
    "version": 3
   },
   "file_extension": ".py",
   "mimetype": "text/x-python",
   "name": "python",
   "nbconvert_exporter": "python",
   "pygments_lexer": "ipython3",
   "version": "3.6.5"
  }
 },
 "nbformat": 4,
 "nbformat_minor": 2
}
